{
  "cells": [
    {
      "cell_type": "markdown",
      "metadata": {
        "id": "gFcsa6oKKgGt"
      },
      "source": [
        "Click \"Copy to Drive\" (above &#8593;) or go to **File > Save a Copy in Drive** so you'll have your own version to work on. That requires a Google login. If you want to start over from scratch, open the [original activity here](https://colab.research.google.com/github/QuarkNet-HEP/coding-camp/blob/master/intro.ipynb).  \n",
        "\n",
        "# Intro To Coding\n",
        "\n",
        "In this activity you will learn to:  \n",
        "- run and edit Python code\n",
        "- read comments in Python\n",
        "- run code in order\n",
        "- import software modules  \n",
        "\n",
        "<hr/>\n",
        "\n",
        "# Part 1: Running Python code  \n",
        "There are two ways to run the code below:\n",
        "- press SHIFT and ENTER at the same time\n",
        "- click on the play button (&#9658;) to the left of the code  \n",
        "\n",
        "Click \"run anyway\" on the popup window. It happens the first time you run this code telling you it loads from GitHub (it's totally safe, that's why we use it).\n",
        "\n",
        "Run each block of code to see what it does. Look for hidden messages, too. They're called *comments* and they start with #."
      ]
    },
    {
      "cell_type": "code",
      "execution_count": null,
      "metadata": {
        "colab": {
          "base_uri": "https://localhost:8080/"
        },
        "id": "UTkmNnoadCOR",
        "outputId": "1ebfd89c-588f-4d4e-fb91-9b6b1980cc79"
      },
      "outputs": [
        {
          "output_type": "execute_result",
          "data": {
            "text/plain": [
              "3"
            ]
          },
          "metadata": {},
          "execution_count": 1
        }
      ],
      "source": [
        "1+2     # run this block of code to see the answer to 1+1"
      ]
    },
    {
      "cell_type": "code",
      "execution_count": null,
      "metadata": {
        "colab": {
          "base_uri": "https://localhost:8080/"
        },
        "id": "Zra5XaIuFxXx",
        "outputId": "e3905d25-90ca-4cfd-8cf4-ebd74baa3c24"
      },
      "outputs": [
        {
          "output_type": "execute_result",
          "data": {
            "text/plain": [
              "2.0"
            ]
          },
          "metadata": {},
          "execution_count": 2
        }
      ],
      "source": [
        "10/5    # Python is a coding language that can do math. Yay!"
      ]
    },
    {
      "cell_type": "code",
      "execution_count": null,
      "metadata": {
        "id": "a08YbU6KF5jS",
        "outputId": "1379cfed-4d8a-4cf0-c447-4f3f21762ace",
        "colab": {
          "base_uri": "https://localhost:8080/"
        }
      },
      "outputs": [
        {
          "output_type": "execute_result",
          "data": {
            "text/plain": [
              "6"
            ]
          },
          "metadata": {},
          "execution_count": 3
        }
      ],
      "source": [
        "# This is a comment. Python doesn't read lines that start with #\n",
        "\n",
        "2*3   # a comment can come after code on the same line, too"
      ]
    },
    {
      "cell_type": "markdown",
      "metadata": {
        "id": "akBt4UjuF_Cd"
      },
      "source": [
        "**Challenge**  \n",
        "- Try to edit the code above to solve a different math problem, like **4 times 5**. You'll have to run the block of code again to see the new answer.  \n",
        "\n",
        "<hr/>\n",
        "\n",
        "# Part 2: Order is everything\n",
        "A program works in a sequence. Running code out of order often won't work.\n"
      ]
    },
    {
      "cell_type": "code",
      "execution_count": null,
      "metadata": {
        "id": "2DiPkRuSF7Nl",
        "outputId": "0e4b8926-fe7b-4950-f0ca-bc2ffde53184",
        "colab": {
          "base_uri": "https://localhost:8080/"
        }
      },
      "outputs": [
        {
          "output_type": "execute_result",
          "data": {
            "text/plain": [
              "10"
            ]
          },
          "metadata": {},
          "execution_count": 4
        }
      ],
      "source": [
        "a = 5   # this line creates a variable called \"a\" and sets it equal to 5\n",
        "a*2     # this line multiplies a times 2. If a=5, then we should get 10 below for the answer"
      ]
    },
    {
      "cell_type": "code",
      "execution_count": null,
      "metadata": {
        "id": "dsAvgo1SGOpS",
        "outputId": "955e6f9e-57d7-4ce0-cf52-e6483e0c3088",
        "colab": {
          "base_uri": "https://localhost:8080/",
          "height": 166
        }
      },
      "outputs": [
        {
          "output_type": "error",
          "ename": "NameError",
          "evalue": "ignored",
          "traceback": [
            "\u001b[0;31m---------------------------------------------------------------------------\u001b[0m",
            "\u001b[0;31mNameError\u001b[0m                                 Traceback (most recent call last)",
            "\u001b[0;32m<ipython-input-5-d0428cc0c42f>\u001b[0m in \u001b[0;36m<cell line: 1>\u001b[0;34m()\u001b[0m\n\u001b[0;32m----> 1\u001b[0;31m \u001b[0;36m2\u001b[0m\u001b[0;34m*\u001b[0m\u001b[0mb\u001b[0m \u001b[0;31m# we didn't tell the program what b equals, so this gives an error\u001b[0m\u001b[0;34m\u001b[0m\u001b[0;34m\u001b[0m\u001b[0m\n\u001b[0m",
            "\u001b[0;31mNameError\u001b[0m: name 'b' is not defined"
          ]
        }
      ],
      "source": [
        "2*b # we didn't tell the program what b equals, so this gives an error"
      ]
    },
    {
      "cell_type": "code",
      "execution_count": null,
      "metadata": {
        "id": "uzVo9uLKGQJ_"
      },
      "outputs": [],
      "source": [
        "b=3 # running this code will tell the program what b equals. Then, try running the block of code above again."
      ]
    },
    {
      "cell_type": "markdown",
      "metadata": {
        "id": "78-GOO5SGU6J"
      },
      "source": [
        "**Challenge**\n",
        "- Write a math problem using only variables, no numbers, like **a times b**.  \n",
        "- Write a math problem using +, -, *, /, and (  ).\n",
        "- Create another variable and multiply it by **a**.  \n",
        "\n",
        "<hr/>\n",
        "\n",
        "# Part 3: Importing modules  \n",
        "The Python language can do some math by itself. To do more complex tasks, we have to import other software called *modules*."
      ]
    },
    {
      "cell_type": "code",
      "execution_count": null,
      "metadata": {
        "id": "3w5FcXQwGSSF"
      },
      "outputs": [],
      "source": [
        "# numpy is a module to let you do numerical operations in Python\n",
        "import numpy"
      ]
    },
    {
      "cell_type": "code",
      "execution_count": null,
      "metadata": {
        "id": "SUN5b606GfGK"
      },
      "outputs": [],
      "source": [
        "# numpy has a function called \"sqrt\" that calculates the square root of a number\n",
        "numpy.sqrt(9)   # what's the square root of 9?"
      ]
    },
    {
      "cell_type": "code",
      "execution_count": null,
      "metadata": {
        "id": "9MUd-bIPGsIp"
      },
      "outputs": [],
      "source": [
        "# you can give modules a nickame when you import them, too\n",
        "\n",
        "import numpy as np   # now you can type \"np\" instead of \"numpy\"\n",
        "np.sqrt(4)           # what's the square root of 4?"
      ]
    },
    {
      "cell_type": "code",
      "execution_count": null,
      "metadata": {
        "id": "kLSGKEt-G3-L"
      },
      "outputs": [],
      "source": [
        "# some modules have long names, so a nickname is handy\n",
        "\n",
        "import matplotlib.pyplot as plt         # \"plt\" is much shorter\n",
        "plt.scatter([1,2,3,4,5], [0,1,3,4,2], color='pink', edgecolor='blue');   # this makes a scatterplot!"
      ]
    },
    {
      "cell_type": "markdown",
      "metadata": {
        "id": "297F-IZ3SbJX"
      },
      "source": [
        "**Challenge**\n",
        "- Change the colors of the graph to green and black.\n",
        "- Numpy has a function called *round* that will round a decimal number. Try using it like you used the *sqrt* function.  \n",
        "\n",
        "# Part 4: Markdown  \n",
        "The text in this notebook that isn't code, like this sentence, is called *markdown*. You can double-click on this text to see the markdown code underneath. Like usual, press SHIFT+ENTER to turn the markdown code into pretty, formatted text again. Markdown lets us write text with formatting like:  \n",
        "- bullet lists  \n",
        "- *italics*  \n",
        "- **bold** text\n",
        "- section headings  \n",
        "- [links](https://xkcd.com/665/)\n",
        "- images  \n",
        "\n",
        "![cute kitten](https://github.com/adamlamee/CODINGinK12/raw/master/notebooks/1dayoldkitten.png)\n",
        "\n",
        "**Challenge**\n",
        "- Make this sentence bold.  \n",
        "- Make this sentence in italics.  \n",
        "- Add a 4th bullet point below this one   \n",
        "\n",
        "# Self-Check  \n",
        "- Were you able to run the Python code? For example, could you add or multiply numbers and see the answer?  \n",
        "- Could you edit the code to produce different output?\n",
        "- Did you find the comments? They start with # and are messages to people reading the code.\n",
        "- Can you explain what's wrong with running \"c=2\" then \"c+d\"?\n",
        "- Can you name two Python software modules? Hint: you imported them.  \n",
        "- Could you edit a markdown cell and do some formatting, like a bulleted list, **bold**, or *italics*?  \n",
        "\n",
        "<hr/>  \n",
        "\n",
        "# Credits\n",
        "This notebook was written by [Adam LaMee](http://www.adamlamee.com). For license and more information visit [CODINGinK12.org](http://www.codingink12.org)."
      ]
    }
  ],
  "metadata": {
    "colab": {
      "provenance": []
    },
    "kernelspec": {
      "display_name": "Python 3",
      "language": "python",
      "name": "python3"
    },
    "language_info": {
      "codemirror_mode": {
        "name": "ipython",
        "version": 3
      },
      "file_extension": ".py",
      "mimetype": "text/x-python",
      "name": "python",
      "nbconvert_exporter": "python",
      "pygments_lexer": "ipython3",
      "version": "3.7.7"
    }
  },
  "nbformat": 4,
  "nbformat_minor": 0
}